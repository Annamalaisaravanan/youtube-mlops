{
 "cells": [
  {
   "cell_type": "code",
   "execution_count": 1,
   "metadata": {},
   "outputs": [],
   "source": [
    "#pip install boto3"
   ]
  },
  {
   "cell_type": "code",
   "execution_count": 2,
   "metadata": {},
   "outputs": [],
   "source": [
    "import boto3\n",
    "import pandas"
   ]
  },
  {
   "cell_type": "markdown",
   "metadata": {},
   "source": [
    "## Fetch CSV file from S3 Bucket"
   ]
  },
  {
   "cell_type": "code",
   "execution_count": 4,
   "metadata": {},
   "outputs": [
    {
     "data": {
      "application/javascript": [
       "\n",
       "        if (window._pyforest_update_imports_cell) { window._pyforest_update_imports_cell('import pandas as pd'); }\n",
       "    "
      ],
      "text/plain": [
       "<IPython.core.display.Javascript object>"
      ]
     },
     "metadata": {},
     "output_type": "display_data"
    }
   ],
   "source": [
    "\n",
    "# Specify your AWS access key and secret key\n",
    "access_key = '<YOUR-AWS-ACCESS-KEY>'\n",
    "secret_key = '<YOUR-AWS-SECRET-KEY>'\n",
    "\n",
    "# Initialize the S3 resource with the access key and secret key\n",
    "s3_resource = boto3.resource('s3', aws_access_key_id=access_key, aws_secret_access_key=secret_key)\n",
    "\n",
    "# Specify the S3 bucket name and the CSV file object key\n",
    "bucket_name = 'mlops-tut-anna'\n",
    "object_key = 'coordinates_data.csv'\n",
    "\n",
    "try:\n",
    "    # Retrieve the S3 object\n",
    "    s3_object = s3_resource.Object(bucket_name, object_key)\n",
    "    \n",
    "    # Read the CSV data directly into a pandas DataFrame\n",
    "    df = pd.read_csv(s3_object.get()['Body'])\n",
    "    \n",
    "    # Now you can work with the DataFrame 'df'\n",
    "    #print(df.head())  # Display the first few rows of the CSV data\n",
    "except Exception as e:\n",
    "    print(f\"An error occurred: {str(e)}\")\n"
   ]
  },
  {
   "cell_type": "code",
   "execution_count": 5,
   "metadata": {},
   "outputs": [
    {
     "data": {
      "text/html": [
       "<div>\n",
       "<style scoped>\n",
       "    .dataframe tbody tr th:only-of-type {\n",
       "        vertical-align: middle;\n",
       "    }\n",
       "\n",
       "    .dataframe tbody tr th {\n",
       "        vertical-align: top;\n",
       "    }\n",
       "\n",
       "    .dataframe thead th {\n",
       "        text-align: right;\n",
       "    }\n",
       "</style>\n",
       "<table border=\"1\" class=\"dataframe\">\n",
       "  <thead>\n",
       "    <tr style=\"text-align: right;\">\n",
       "      <th></th>\n",
       "      <th>Unnamed: 0</th>\n",
       "      <th>est_lat</th>\n",
       "      <th>est_long</th>\n",
       "      <th>name</th>\n",
       "      <th>symbol</th>\n",
       "    </tr>\n",
       "  </thead>\n",
       "  <tbody>\n",
       "    <tr>\n",
       "      <th>0</th>\n",
       "      <td>0</td>\n",
       "      <td>48.782819</td>\n",
       "      <td>2.165326</td>\n",
       "      <td>est_class</td>\n",
       "      <td>star</td>\n",
       "    </tr>\n",
       "    <tr>\n",
       "      <th>1</th>\n",
       "      <td>1</td>\n",
       "      <td>48.782804</td>\n",
       "      <td>2.165765</td>\n",
       "      <td>est_class</td>\n",
       "      <td>star</td>\n",
       "    </tr>\n",
       "    <tr>\n",
       "      <th>2</th>\n",
       "      <td>2</td>\n",
       "      <td>48.782832</td>\n",
       "      <td>2.165388</td>\n",
       "      <td>est_class</td>\n",
       "      <td>star</td>\n",
       "    </tr>\n",
       "    <tr>\n",
       "      <th>3</th>\n",
       "      <td>3</td>\n",
       "      <td>48.782817</td>\n",
       "      <td>2.165817</td>\n",
       "      <td>est_class</td>\n",
       "      <td>star</td>\n",
       "    </tr>\n",
       "    <tr>\n",
       "      <th>4</th>\n",
       "      <td>4</td>\n",
       "      <td>48.782852</td>\n",
       "      <td>2.165444</td>\n",
       "      <td>est_class</td>\n",
       "      <td>star</td>\n",
       "    </tr>\n",
       "    <tr>\n",
       "      <th>5</th>\n",
       "      <td>5</td>\n",
       "      <td>48.782841</td>\n",
       "      <td>2.165861</td>\n",
       "      <td>est_class</td>\n",
       "      <td>star</td>\n",
       "    </tr>\n",
       "  </tbody>\n",
       "</table>\n",
       "</div>"
      ],
      "text/plain": [
       "   Unnamed: 0    est_lat  est_long       name symbol\n",
       "0           0  48.782819  2.165326  est_class   star\n",
       "1           1  48.782804  2.165765  est_class   star\n",
       "2           2  48.782832  2.165388  est_class   star\n",
       "3           3  48.782817  2.165817  est_class   star\n",
       "4           4  48.782852  2.165444  est_class   star\n",
       "5           5  48.782841  2.165861  est_class   star"
      ]
     },
     "execution_count": 5,
     "metadata": {},
     "output_type": "execute_result"
    }
   ],
   "source": [
    "df"
   ]
  },
  {
   "cell_type": "markdown",
   "metadata": {},
   "source": [
    "## Upload a CSV to S3 Bucket"
   ]
  },
  {
   "cell_type": "code",
   "execution_count": 6,
   "metadata": {},
   "outputs": [
    {
     "name": "stdout",
     "output_type": "stream",
     "text": [
      "CSV file uploaded to S3: s3://mlops-tut-anna/sample/data.csv\n"
     ]
    }
   ],
   "source": [
    "\n",
    "\n",
    "\n",
    "# Specify the S3 bucket name and the target object key (S3 path)\n",
    "\n",
    "object_key = 'sample/data.csv'\n",
    "\n",
    "# Specify the local path of the CSV file to upload\n",
    "local_file_path = r'D:\\data\\flights.csv'\n",
    "\n",
    "try:\n",
    "    # Upload the CSV file to the S3 bucket\n",
    "    s3_resource.Bucket(bucket_name).upload_file(local_file_path, object_key)\n",
    "    print(f\"CSV file uploaded to S3: s3://{bucket_name}/{object_key}\")\n",
    "except Exception as e:\n",
    "    print(f\"An error occurred: {str(e)}\")\n"
   ]
  },
  {
   "cell_type": "code",
   "execution_count": null,
   "metadata": {},
   "outputs": [],
   "source": []
  }
 ],
 "metadata": {
  "kernelspec": {
   "display_name": "Python 3",
   "language": "python",
   "name": "python3"
  },
  "language_info": {
   "codemirror_mode": {
    "name": "ipython",
    "version": 3
   },
   "file_extension": ".py",
   "mimetype": "text/x-python",
   "name": "python",
   "nbconvert_exporter": "python",
   "pygments_lexer": "ipython3",
   "version": "3.8.5"
  }
 },
 "nbformat": 4,
 "nbformat_minor": 4
}
