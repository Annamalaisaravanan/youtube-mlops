{
 "cells": [
  {
   "cell_type": "code",
   "execution_count": null,
   "id": "b33eb9b0",
   "metadata": {},
   "outputs": [],
   "source": [
    "# !pip install streamlit_authenticator"
   ]
  },
  {
   "cell_type": "code",
   "execution_count": 12,
   "id": "a5c1fe89",
   "metadata": {},
   "outputs": [],
   "source": [
    "import streamlit_authenticator as stauth\n",
    "\n",
    "import yaml\n",
    "from yaml.loader import SafeLoader"
   ]
  },
  {
   "cell_type": "code",
   "execution_count": 13,
   "id": "7b426845",
   "metadata": {},
   "outputs": [],
   "source": [
    "hashed_passwords = stauth.Hasher(['admin123*', 'anna123*']).generate()"
   ]
  },
  {
   "cell_type": "code",
   "execution_count": 14,
   "id": "a9040040",
   "metadata": {},
   "outputs": [
    {
     "data": {
      "text/plain": [
       "['$2b$12$/Tst533PJcMDuv1pcUyik.BtBlDSI4wKNBnMbC43i5cySfPJiOiuG',\n",
       " '$2b$12$7eoCtrZpoXsckhlob.5sD.dpynsOn5mpdffn5M0Gm0.VnVO5t5qya']"
      ]
     },
     "execution_count": 14,
     "metadata": {},
     "output_type": "execute_result"
    }
   ],
   "source": [
    "hashed_passwords"
   ]
  },
  {
   "cell_type": "code",
   "execution_count": 11,
   "id": "3df3f7e6",
   "metadata": {},
   "outputs": [],
   "source": [
    "with open('config.yml') as file:\n",
    "    config = yaml.load(file, Loader=SafeLoader)\n",
    "\n",
    "\n",
    "authenticator = stauth.Authenticate(\n",
    "    config['credentials'],\n",
    "    config['cookie']['name'],\n",
    "    config['cookie']['key'],\n",
    "    config['cookie']['expiry_days'],\n",
    "    config['preauthorized']\n",
    ")\n",
    "\n",
    "authentication_status = authenticator.login('Login', 'main')"
   ]
  },
  {
   "cell_type": "code",
   "execution_count": null,
   "id": "ee38d42f",
   "metadata": {},
   "outputs": [],
   "source": []
  }
 ],
 "metadata": {
  "kernelspec": {
   "display_name": "myenv",
   "language": "python",
   "name": "myenv"
  },
  "language_info": {
   "codemirror_mode": {
    "name": "ipython",
    "version": 3
   },
   "file_extension": ".py",
   "mimetype": "text/x-python",
   "name": "python",
   "nbconvert_exporter": "python",
   "pygments_lexer": "ipython3",
   "version": "3.8.5"
  }
 },
 "nbformat": 4,
 "nbformat_minor": 5
}
