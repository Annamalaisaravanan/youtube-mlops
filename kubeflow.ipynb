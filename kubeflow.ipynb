{
 "cells": [
  {
   "cell_type": "code",
   "execution_count": 1,
   "id": "dbb400f5-c1ec-4cd2-b377-2939375452cd",
   "metadata": {
    "scrolled": true
   },
   "outputs": [
    {
     "name": "stdout",
     "output_type": "stream",
     "text": [
      "Requirement already satisfied: kfp in /Library/Frameworks/Python.framework/Versions/3.11/lib/python3.11/site-packages (2.11.0)\n",
      "Requirement already satisfied: click<9,>=8.0.0 in /Library/Frameworks/Python.framework/Versions/3.11/lib/python3.11/site-packages (from kfp) (8.1.7)\n",
      "Requirement already satisfied: docstring-parser<1,>=0.7.3 in /Library/Frameworks/Python.framework/Versions/3.11/lib/python3.11/site-packages (from kfp) (0.16)\n",
      "Requirement already satisfied: google-api-core!=2.0.*,!=2.1.*,!=2.2.*,!=2.3.0,<3.0.0dev,>=1.31.5 in /Library/Frameworks/Python.framework/Versions/3.11/lib/python3.11/site-packages (from kfp) (2.19.2)\n",
      "Requirement already satisfied: google-auth<3,>=1.6.1 in /Library/Frameworks/Python.framework/Versions/3.11/lib/python3.11/site-packages (from kfp) (2.34.0)\n",
      "Requirement already satisfied: google-cloud-storage<3,>=2.2.1 in /Library/Frameworks/Python.framework/Versions/3.11/lib/python3.11/site-packages (from kfp) (2.18.2)\n",
      "Requirement already satisfied: kfp-pipeline-spec==0.6.0 in /Library/Frameworks/Python.framework/Versions/3.11/lib/python3.11/site-packages (from kfp) (0.6.0)\n",
      "Requirement already satisfied: kfp-server-api<2.4.0,>=2.1.0 in /Library/Frameworks/Python.framework/Versions/3.11/lib/python3.11/site-packages (from kfp) (2.3.0)\n",
      "Requirement already satisfied: kubernetes<31,>=8.0.0 in /Library/Frameworks/Python.framework/Versions/3.11/lib/python3.11/site-packages (from kfp) (30.1.0)\n",
      "Requirement already satisfied: protobuf<5,>=4.21.1 in /Library/Frameworks/Python.framework/Versions/3.11/lib/python3.11/site-packages (from kfp) (4.25.7)\n",
      "Requirement already satisfied: PyYAML<7,>=5.3 in /Library/Frameworks/Python.framework/Versions/3.11/lib/python3.11/site-packages (from kfp) (6.0.1)\n",
      "Requirement already satisfied: requests-toolbelt<1,>=0.8.0 in /Library/Frameworks/Python.framework/Versions/3.11/lib/python3.11/site-packages (from kfp) (0.10.1)\n",
      "Requirement already satisfied: tabulate<1,>=0.8.6 in /Library/Frameworks/Python.framework/Versions/3.11/lib/python3.11/site-packages (from kfp) (0.9.0)\n",
      "Requirement already satisfied: urllib3<2.0.0 in /Library/Frameworks/Python.framework/Versions/3.11/lib/python3.11/site-packages (from kfp) (1.26.20)\n",
      "Requirement already satisfied: googleapis-common-protos<2.0.dev0,>=1.56.2 in /Library/Frameworks/Python.framework/Versions/3.11/lib/python3.11/site-packages (from google-api-core!=2.0.*,!=2.1.*,!=2.2.*,!=2.3.0,<3.0.0dev,>=1.31.5->kfp) (1.65.0)\n",
      "Requirement already satisfied: proto-plus<2.0.0dev,>=1.22.3 in /Library/Frameworks/Python.framework/Versions/3.11/lib/python3.11/site-packages (from google-api-core!=2.0.*,!=2.1.*,!=2.2.*,!=2.3.0,<3.0.0dev,>=1.31.5->kfp) (1.24.0)\n",
      "Requirement already satisfied: requests<3.0.0.dev0,>=2.18.0 in /Library/Frameworks/Python.framework/Versions/3.11/lib/python3.11/site-packages (from google-api-core!=2.0.*,!=2.1.*,!=2.2.*,!=2.3.0,<3.0.0dev,>=1.31.5->kfp) (2.32.3)\n",
      "Requirement already satisfied: cachetools<6.0,>=2.0.0 in /Library/Frameworks/Python.framework/Versions/3.11/lib/python3.11/site-packages (from google-auth<3,>=1.6.1->kfp) (5.5.0)\n",
      "Requirement already satisfied: pyasn1-modules>=0.2.1 in /Library/Frameworks/Python.framework/Versions/3.11/lib/python3.11/site-packages (from google-auth<3,>=1.6.1->kfp) (0.4.0)\n",
      "Requirement already satisfied: rsa<5,>=3.1.4 in /Library/Frameworks/Python.framework/Versions/3.11/lib/python3.11/site-packages (from google-auth<3,>=1.6.1->kfp) (4.7.2)\n",
      "Requirement already satisfied: google-cloud-core<3.0dev,>=2.3.0 in /Library/Frameworks/Python.framework/Versions/3.11/lib/python3.11/site-packages (from google-cloud-storage<3,>=2.2.1->kfp) (2.4.1)\n",
      "Requirement already satisfied: google-resumable-media>=2.7.2 in /Library/Frameworks/Python.framework/Versions/3.11/lib/python3.11/site-packages (from google-cloud-storage<3,>=2.2.1->kfp) (2.7.2)\n",
      "Requirement already satisfied: google-crc32c<2.0dev,>=1.0 in /Library/Frameworks/Python.framework/Versions/3.11/lib/python3.11/site-packages (from google-cloud-storage<3,>=2.2.1->kfp) (1.5.0)\n",
      "Requirement already satisfied: six>=1.10 in /Library/Frameworks/Python.framework/Versions/3.11/lib/python3.11/site-packages (from kfp-server-api<2.4.0,>=2.1.0->kfp) (1.16.0)\n",
      "Requirement already satisfied: certifi in /Library/Frameworks/Python.framework/Versions/3.11/lib/python3.11/site-packages (from kfp-server-api<2.4.0,>=2.1.0->kfp) (2024.6.2)\n",
      "Requirement already satisfied: python-dateutil in /Library/Frameworks/Python.framework/Versions/3.11/lib/python3.11/site-packages (from kfp-server-api<2.4.0,>=2.1.0->kfp) (2.9.0.post0)\n",
      "Requirement already satisfied: websocket-client!=0.40.0,!=0.41.*,!=0.42.*,>=0.32.0 in /Library/Frameworks/Python.framework/Versions/3.11/lib/python3.11/site-packages (from kubernetes<31,>=8.0.0->kfp) (1.8.0)\n",
      "Requirement already satisfied: requests-oauthlib in /Library/Frameworks/Python.framework/Versions/3.11/lib/python3.11/site-packages (from kubernetes<31,>=8.0.0->kfp) (2.0.0)\n",
      "Requirement already satisfied: oauthlib>=3.2.2 in /Library/Frameworks/Python.framework/Versions/3.11/lib/python3.11/site-packages (from kubernetes<31,>=8.0.0->kfp) (3.2.2)\n",
      "Requirement already satisfied: pyasn1<0.7.0,>=0.4.6 in /Library/Frameworks/Python.framework/Versions/3.11/lib/python3.11/site-packages (from pyasn1-modules>=0.2.1->google-auth<3,>=1.6.1->kfp) (0.6.0)\n",
      "Requirement already satisfied: charset-normalizer<4,>=2 in /Library/Frameworks/Python.framework/Versions/3.11/lib/python3.11/site-packages (from requests<3.0.0.dev0,>=2.18.0->google-api-core!=2.0.*,!=2.1.*,!=2.2.*,!=2.3.0,<3.0.0dev,>=1.31.5->kfp) (3.3.2)\n",
      "Requirement already satisfied: idna<4,>=2.5 in /Library/Frameworks/Python.framework/Versions/3.11/lib/python3.11/site-packages (from requests<3.0.0.dev0,>=2.18.0->google-api-core!=2.0.*,!=2.1.*,!=2.2.*,!=2.3.0,<3.0.0dev,>=1.31.5->kfp) (3.7)\n",
      "\n",
      "\u001b[1m[\u001b[0m\u001b[34;49mnotice\u001b[0m\u001b[1;39;49m]\u001b[0m\u001b[39;49m A new release of pip is available: \u001b[0m\u001b[31;49m25.0\u001b[0m\u001b[39;49m -> \u001b[0m\u001b[32;49m25.1.1\u001b[0m\n",
      "\u001b[1m[\u001b[0m\u001b[34;49mnotice\u001b[0m\u001b[1;39;49m]\u001b[0m\u001b[39;49m To update, run: \u001b[0m\u001b[32;49mpip install --upgrade pip\u001b[0m\n"
     ]
    }
   ],
   "source": [
    "!pip install kfp"
   ]
  },
  {
   "cell_type": "code",
   "execution_count": 1,
   "id": "77168d76-37a8-4d4d-9ad8-f42660e7f6a3",
   "metadata": {},
   "outputs": [],
   "source": [
    "from kfp import dsl\n",
    "import kfp\n"
   ]
  },
  {
   "cell_type": "code",
   "execution_count": 8,
   "id": "da64bcb1-d6f3-4318-9604-3980cb7fcdfd",
   "metadata": {},
   "outputs": [],
   "source": [
    "@dsl.component\n",
    "def add(a: float, b: float) -> float:\n",
    "    '''Calculates sum of two arguments'''\n",
    "    return a + b"
   ]
  },
  {
   "cell_type": "code",
   "execution_count": 10,
   "id": "390c2b0a-4ef1-4129-a67c-6a7d27b9777c",
   "metadata": {},
   "outputs": [],
   "source": [
    "@dsl.pipeline(\n",
    "    name='kubeflow 101 pipeline',\n",
    "    description='An example pipeline that performs addition calculations.')\n",
    "def add_pipeline(\n",
    "    a: float = 1.0,\n",
    "    b: float = 7.0,\n",
    "):\n",
    "    first_add_task = add(a=a, b=4.0)\n",
    "    second_add_task = add(a=first_add_task.output, b=b)\n",
    "    thrid_add_task = add(a=second_add_task.output, b=1.0)"
   ]
  },
  {
   "cell_type": "code",
   "execution_count": 11,
   "id": "b168635e-02ba-40aa-aac2-c8aeff9e170e",
   "metadata": {},
   "outputs": [],
   "source": [
    "client = kfp.Client(host='http://localhost:8080')"
   ]
  },
  {
   "cell_type": "code",
   "execution_count": 12,
   "id": "8ff35672-a96d-491d-a254-15321bc1d29e",
   "metadata": {},
   "outputs": [
    {
     "data": {
      "text/html": [
       "<a href=\"http://localhost:8080/#/experiments/details/843c2144-f3b1-431c-a116-479e4de504d6\" target=\"_blank\" >Experiment details</a>."
      ],
      "text/plain": [
       "<IPython.core.display.HTML object>"
      ]
     },
     "metadata": {},
     "output_type": "display_data"
    },
    {
     "data": {
      "text/html": [
       "<a href=\"http://localhost:8080/#/runs/details/e25e27ad-99fa-40c0-82dc-71241f6ab4ed\" target=\"_blank\" >Run details</a>."
      ],
      "text/plain": [
       "<IPython.core.display.HTML object>"
      ]
     },
     "metadata": {},
     "output_type": "display_data"
    },
    {
     "data": {
      "text/plain": [
       "RunPipelineResult(run_id=e25e27ad-99fa-40c0-82dc-71241f6ab4ed)"
      ]
     },
     "execution_count": 12,
     "metadata": {},
     "output_type": "execute_result"
    }
   ],
   "source": [
    "client.create_run_from_pipeline_func(\n",
    "    add_pipeline, arguments={\n",
    "        'a': 7.0,\n",
    "        'b': 8.0\n",
    "    })"
   ]
  },
  {
   "cell_type": "markdown",
   "id": "72caa0ea-32c7-4896-8b2f-50cade7cb254",
   "metadata": {},
   "source": [
    "## IRIS dataset"
   ]
  },
  {
   "cell_type": "code",
   "execution_count": 47,
   "id": "7af6e2e5-2154-450b-9bd9-dbbf87eadf0f",
   "metadata": {},
   "outputs": [],
   "source": [
    "from kfp import dsl\n",
    "from kfp import compiler\n",
    "from typing import NamedTuple\n",
    "import kfp\n",
    "\n",
    "@dsl.component(base_image='python:3.9-slim')\n",
    "def preprocess_data()-> NamedTuple('Outputs', [\n",
    "    ('X_train', list),\n",
    "    ('X_test', list),\n",
    "    ('y_train', list),\n",
    "    ('y_test', list)\n",
    "]):\n",
    "    import subprocess\n",
    "    subprocess.run([\"pip\", \"install\", \"scikit-learn\"], check=True)\n",
    "    from sklearn.datasets import load_iris\n",
    "    from sklearn.model_selection import train_test_split\n",
    "\n",
    "    iris = load_iris()\n",
    "    X_train, X_test, y_train, y_test = train_test_split(\n",
    "        iris.data, iris.target, test_size=0.2, random_state=42\n",
    "    )\n",
    "    # return {'X_train':X_train.tolist(), 'X_test': X_test.tolist(), 'y_train': y_train.tolist(), 'y_test': y_test.tolist()}\n",
    "    return X_train.tolist(), X_test.tolist(), y_train.tolist(), y_test.tolist()\n",
    "\n",
    "\n",
    "@dsl.component(base_image='python:3.9-slim')\n",
    "def train_model(X_train: list, y_train: list)-> str:\n",
    "    \n",
    "    import subprocess\n",
    "    subprocess.run([\"pip\", \"install\", \"scikit-learn\"], check=True)\n",
    "    subprocess.run([\"pip\", \"install\", \"pandas\"], check =True)\n",
    "    \n",
    "    from sklearn.ensemble import RandomForestClassifier\n",
    "    import pickle\n",
    "    import pandas as pd\n",
    "    import os\n",
    "\n",
    "    clf = RandomForestClassifier()\n",
    "    df_x = pd.DataFrame(X_train)\n",
    "    df_y = pd.DataFrame(y_train)\n",
    "    \n",
    "    clf.fit(X_train, y_train)\n",
    "    \n",
    "\n",
    "    model_path = \"/tmp/model.pkl\"\n",
    "    with open(model_path, \"wb\") as f:\n",
    "        pickle.dump(clf, f)\n",
    "    print(\"Training done.....!\")\n",
    "    return \"Pipeline successful\"\n",
    "\n"
   ]
  },
  {
   "cell_type": "code",
   "execution_count": 48,
   "id": "c939344b-1b60-4002-a854-95b114172355",
   "metadata": {},
   "outputs": [],
   "source": [
    "@dsl.pipeline(name=\"iris-ds-pipeline\", description=\"Data Science Pipeline for Iris Dataset\")\n",
    "def iris_pipeline():\n",
    "    step1 = preprocess_data()\n",
    "    step2 = train_model(X_train=step1.outputs[\"X_train\"], y_train=step1.outputs[\"y_train\"])\n",
    "    # step3 = evaluate_model(model_path=step2.output, X_test=step1.outputs[\"output1\"], y_test=step1.outputs[\"output3\"])"
   ]
  },
  {
   "cell_type": "code",
   "execution_count": 49,
   "id": "1c490f2a-636e-4036-be75-8a844ab074eb",
   "metadata": {},
   "outputs": [],
   "source": [
    "from kfp import compiler\n",
    "\n",
    "# Replace `iris_pipeline` with your pipeline function name\n",
    "compiler.Compiler().compile(pipeline_func=iris_pipeline, package_path='iris_pipeline.yaml')\n"
   ]
  },
  {
   "cell_type": "code",
   "execution_count": 50,
   "id": "64d59493-1086-43b7-9a4a-190ced4efb4c",
   "metadata": {},
   "outputs": [
    {
     "data": {
      "text/html": [
       "<a href=\"http://localhost:8080/#/pipelines/details/6beef6b3-ab29-4e46-83fd-6da848e9304c\" target=\"_blank\" >Pipeline details</a>."
      ],
      "text/plain": [
       "<IPython.core.display.HTML object>"
      ]
     },
     "metadata": {},
     "output_type": "display_data"
    }
   ],
   "source": [
    "import kfp\n",
    "\n",
    "client = kfp.Client(host='http://localhost:8080')  # Adjust if needed\n",
    "\n",
    "# Upload pipeline\n",
    "pipeline = client.upload_pipeline(pipeline_package_path='iris_pipeline.yaml', pipeline_name='Iris-Pipeline-6')\n"
   ]
  }
 ],
 "metadata": {
  "kernelspec": {
   "display_name": "Python 3 (ipykernel)",
   "language": "python",
   "name": "python3"
  },
  "language_info": {
   "codemirror_mode": {
    "name": "ipython",
    "version": 3
   },
   "file_extension": ".py",
   "mimetype": "text/x-python",
   "name": "python",
   "nbconvert_exporter": "python",
   "pygments_lexer": "ipython3",
   "version": "3.11.5"
  }
 },
 "nbformat": 4,
 "nbformat_minor": 5
}
